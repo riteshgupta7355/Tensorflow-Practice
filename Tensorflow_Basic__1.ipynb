{
  "nbformat": 4,
  "nbformat_minor": 0,
  "metadata": {
    "colab": {
      "name": "Tensorflow_Basic_ 1.ipynb",
      "provenance": [],
      "collapsed_sections": [],
      "authorship_tag": "ABX9TyPDo2EvjD5Gzv3Nh6HAXei4",
      "include_colab_link": true
    },
    "kernelspec": {
      "name": "python3",
      "display_name": "Python 3"
    },
    "language_info": {
      "name": "python"
    }
  },
  "cells": [
    {
      "cell_type": "markdown",
      "metadata": {
        "id": "view-in-github",
        "colab_type": "text"
      },
      "source": [
        "<a href=\"https://colab.research.google.com/github/riteshgupta7355/Tensorflow-Practice/blob/main/Tensorflow_Basic__1.ipynb\" target=\"_parent\"><img src=\"https://colab.research.google.com/assets/colab-badge.svg\" alt=\"Open In Colab\"/></a>"
      ]
    },
    {
      "cell_type": "markdown",
      "metadata": {
        "id": "Vm6yW7aXROVY"
      },
      "source": [
        "# Tensorflow Fundamentals"
      ]
    },
    {
      "cell_type": "code",
      "metadata": {
        "colab": {
          "base_uri": "https://localhost:8080/"
        },
        "id": "4qPVJZJ6OXLq",
        "outputId": "f8cb8a49-8d4e-4451-ad4c-b1150eeae79c"
      },
      "source": [
        "import tensorflow as tf\n",
        "print(tf.__version__)"
      ],
      "execution_count": 1,
      "outputs": [
        {
          "output_type": "stream",
          "text": [
            "2.5.0\n"
          ],
          "name": "stdout"
        }
      ]
    },
    {
      "cell_type": "code",
      "metadata": {
        "colab": {
          "base_uri": "https://localhost:8080/"
        },
        "id": "wGO8QrNsVLA3",
        "outputId": "d63f879e-aea9-4b5d-be51-942e0468aaa8"
      },
      "source": [
        "# Creating Scalar\n",
        "scalar=tf.constant(2)\n",
        "scalar\n"
      ],
      "execution_count": 2,
      "outputs": [
        {
          "output_type": "execute_result",
          "data": {
            "text/plain": [
              "<tf.Tensor: shape=(), dtype=int32, numpy=2>"
            ]
          },
          "metadata": {
            "tags": []
          },
          "execution_count": 2
        }
      ]
    },
    {
      "cell_type": "code",
      "metadata": {
        "colab": {
          "base_uri": "https://localhost:8080/"
        },
        "id": "GmMtYjEzX3T3",
        "outputId": "9d3ef54b-2b36-48de-8b1f-077020137d94"
      },
      "source": [
        "print(scalar.ndim)"
      ],
      "execution_count": 3,
      "outputs": [
        {
          "output_type": "stream",
          "text": [
            "0\n"
          ],
          "name": "stdout"
        }
      ]
    },
    {
      "cell_type": "code",
      "metadata": {
        "colab": {
          "base_uri": "https://localhost:8080/"
        },
        "id": "vhKVWSInX-zZ",
        "outputId": "9003270d-1470-4378-e4eb-3ced04855dff"
      },
      "source": [
        "# creating Vector\n",
        "vector=tf.constant([2,2])\n",
        "vector"
      ],
      "execution_count": 4,
      "outputs": [
        {
          "output_type": "execute_result",
          "data": {
            "text/plain": [
              "<tf.Tensor: shape=(2,), dtype=int32, numpy=array([2, 2], dtype=int32)>"
            ]
          },
          "metadata": {
            "tags": []
          },
          "execution_count": 4
        }
      ]
    },
    {
      "cell_type": "code",
      "metadata": {
        "colab": {
          "base_uri": "https://localhost:8080/"
        },
        "id": "TA88TNSyYSKE",
        "outputId": "a800ecc4-2184-458c-9038-47cd39d27446"
      },
      "source": [
        "print(vector.ndim)"
      ],
      "execution_count": 5,
      "outputs": [
        {
          "output_type": "stream",
          "text": [
            "1\n"
          ],
          "name": "stdout"
        }
      ]
    },
    {
      "cell_type": "code",
      "metadata": {
        "colab": {
          "base_uri": "https://localhost:8080/"
        },
        "id": "LSXTyHqsYVSF",
        "outputId": "edcc4fc6-39e2-4727-f69e-a842559291aa"
      },
      "source": [
        "matrix=tf.constant([[2,3,4],\n",
        "                  [4,5,6]])\n",
        "matrix"
      ],
      "execution_count": 6,
      "outputs": [
        {
          "output_type": "execute_result",
          "data": {
            "text/plain": [
              "<tf.Tensor: shape=(2, 3), dtype=int32, numpy=\n",
              "array([[2, 3, 4],\n",
              "       [4, 5, 6]], dtype=int32)>"
            ]
          },
          "metadata": {
            "tags": []
          },
          "execution_count": 6
        }
      ]
    },
    {
      "cell_type": "code",
      "metadata": {
        "colab": {
          "base_uri": "https://localhost:8080/"
        },
        "id": "Q32pWuB6bWv0",
        "outputId": "d234b305-0061-419d-ceac-176e6c8d8f15"
      },
      "source": [
        "matrix.ndim"
      ],
      "execution_count": 7,
      "outputs": [
        {
          "output_type": "execute_result",
          "data": {
            "text/plain": [
              "2"
            ]
          },
          "metadata": {
            "tags": []
          },
          "execution_count": 7
        }
      ]
    },
    {
      "cell_type": "code",
      "metadata": {
        "colab": {
          "base_uri": "https://localhost:8080/"
        },
        "id": "7cslefAHbbVE",
        "outputId": "6893d357-5d42-4527-99ec-650bb1a46d46"
      },
      "source": [
        "tensor=tf.constant([[[1,1,1],\n",
        "                     [2,2,2]],\n",
        "                    [[3,3,3],\n",
        "                     [4,4,4]],\n",
        "                    [[5,5,5],\n",
        "                     [6,6,6]] ])\n",
        "tensor"
      ],
      "execution_count": 8,
      "outputs": [
        {
          "output_type": "execute_result",
          "data": {
            "text/plain": [
              "<tf.Tensor: shape=(3, 2, 3), dtype=int32, numpy=\n",
              "array([[[1, 1, 1],\n",
              "        [2, 2, 2]],\n",
              "\n",
              "       [[3, 3, 3],\n",
              "        [4, 4, 4]],\n",
              "\n",
              "       [[5, 5, 5],\n",
              "        [6, 6, 6]]], dtype=int32)>"
            ]
          },
          "metadata": {
            "tags": []
          },
          "execution_count": 8
        }
      ]
    },
    {
      "cell_type": "code",
      "metadata": {
        "colab": {
          "base_uri": "https://localhost:8080/"
        },
        "id": "450WRitHcboB",
        "outputId": "c0e4bd9f-8387-41fb-a672-a25d3ac8b21b"
      },
      "source": [
        "tensor.ndim"
      ],
      "execution_count": 9,
      "outputs": [
        {
          "output_type": "execute_result",
          "data": {
            "text/plain": [
              "3"
            ]
          },
          "metadata": {
            "tags": []
          },
          "execution_count": 9
        }
      ]
    },
    {
      "cell_type": "markdown",
      "metadata": {
        "id": "czl7EbR1eGM_"
      },
      "source": [
        "* scalar: a single number.\n",
        "* vector: a number with direction (e.g. wind speed with direction).\n",
        "* matrix: a 2-dimensional array of numbers.\n",
        "* tensor: an n-dimensional array of numbers (where n can be any number, \n",
        "* a *0-dimension tensor is a scalar, a 1-dimension tensor is a vector)."
      ]
    },
    {
      "cell_type": "markdown",
      "metadata": {
        "id": "2miOK3Bmebnm"
      },
      "source": [
        "## Creating Tensors with tf.Variable()¶\n",
        "The difference between tf.Variable() and tf.constant() is tensors created with tf.constant() are immutable (can't be changed, can only be used to create a new tensor), where as, tensors created with tf.Variable() are mutable (can be changed).\n",
        "\n"
      ]
    },
    {
      "cell_type": "markdown",
      "metadata": {
        "id": "fFvcx8SffUTL"
      },
      "source": [
        "![image.png](data:image/png;base64,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)"
      ]
    },
    {
      "cell_type": "markdown",
      "metadata": {
        "id": "I5ACr-k1fhFo"
      },
      "source": [
        "![image.png](data:image/png;base64,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)"
      ]
    },
    {
      "cell_type": "markdown",
      "metadata": {
        "id": "9SpX2Zuv-Jct"
      },
      "source": [
        "### Creating Tensor with `tf.Variable`"
      ]
    },
    {
      "cell_type": "code",
      "metadata": {
        "id": "dF1RmEiJckY8",
        "colab": {
          "base_uri": "https://localhost:8080/"
        },
        "outputId": "fd0772f9-9392-48f0-8e16-35f07a97f168"
      },
      "source": [
        "tf.Variable"
      ],
      "execution_count": 10,
      "outputs": [
        {
          "output_type": "execute_result",
          "data": {
            "text/plain": [
              "tensorflow.python.ops.variables.Variable"
            ]
          },
          "metadata": {
            "tags": []
          },
          "execution_count": 10
        }
      ]
    },
    {
      "cell_type": "code",
      "metadata": {
        "id": "fOZmHDsceL-E",
        "colab": {
          "base_uri": "https://localhost:8080/",
          "height": 35
        },
        "outputId": "0cd90648-bc65-4d2d-af76-f5ad2b780890"
      },
      "source": [
        "\"\"\" ten_const= tf.constant([15,3])\n",
        "ten_const[0].assign(20)   # tf.constant is Immutable \"\"\""
      ],
      "execution_count": 11,
      "outputs": [
        {
          "output_type": "execute_result",
          "data": {
            "application/vnd.google.colaboratory.intrinsic+json": {
              "type": "string"
            },
            "text/plain": [
              "' ten_const= tf.constant([15,3])\\nten_const[0].assign(20)   # tf.constant is Immutable '"
            ]
          },
          "metadata": {
            "tags": []
          },
          "execution_count": 11
        }
      ]
    },
    {
      "cell_type": "code",
      "metadata": {
        "colab": {
          "base_uri": "https://localhost:8080/"
        },
        "id": "ur4pJqIQD5g_",
        "outputId": "813befdd-ad74-4b99-ec43-095bbcbf7d0e"
      },
      "source": [
        "ten_var=tf.Variable([15,13])\n",
        "ten_var[0].assign(20)"
      ],
      "execution_count": 12,
      "outputs": [
        {
          "output_type": "execute_result",
          "data": {
            "text/plain": [
              "<tf.Variable 'UnreadVariable' shape=(2,) dtype=int32, numpy=array([20, 13], dtype=int32)>"
            ]
          },
          "metadata": {
            "tags": []
          },
          "execution_count": 12
        }
      ]
    },
    {
      "cell_type": "markdown",
      "metadata": {
        "id": "X1AjCtQ3Htxd"
      },
      "source": [
        "### Creating random tensors\n",
        "`We can create random tensors by using the tf.random.Generator class.`\n",
        "\n",
        "\n",
        "\n"
      ]
    },
    {
      "cell_type": "code",
      "metadata": {
        "colab": {
          "base_uri": "https://localhost:8080/"
        },
        "id": "iyswWn1_E3-t",
        "outputId": "ce947a8d-2407-49c3-9a66-005578660b53"
      },
      "source": [
        "# Create two random (but the same) tensors\n",
        "random_1 = tf.random.Generator.from_seed(42) # set the seed for reproducibility\n",
        "random_1 = random_1.normal(shape=(3, 2)) # create tensor from a normal distribution \n",
        "random_2 = tf.random.Generator.from_seed(42)\n",
        "random_2 = random_2.normal(shape=(3, 2))\n",
        "\n",
        "# Are they equal?\n",
        "random_1, random_2, random_1 == random_2\n"
      ],
      "execution_count": 13,
      "outputs": [
        {
          "output_type": "execute_result",
          "data": {
            "text/plain": [
              "(<tf.Tensor: shape=(3, 2), dtype=float32, numpy=\n",
              " array([[-0.7565803 , -0.06854702],\n",
              "        [ 0.07595026, -1.2573844 ],\n",
              "        [-0.23193763, -1.8107855 ]], dtype=float32)>,\n",
              " <tf.Tensor: shape=(3, 2), dtype=float32, numpy=\n",
              " array([[-0.7565803 , -0.06854702],\n",
              "        [ 0.07595026, -1.2573844 ],\n",
              "        [-0.23193763, -1.8107855 ]], dtype=float32)>,\n",
              " <tf.Tensor: shape=(3, 2), dtype=bool, numpy=\n",
              " array([[ True,  True],\n",
              "        [ True,  True],\n",
              "        [ True,  True]])>)"
            ]
          },
          "metadata": {
            "tags": []
          },
          "execution_count": 13
        }
      ]
    },
    {
      "cell_type": "code",
      "metadata": {
        "colab": {
          "base_uri": "https://localhost:8080/"
        },
        "id": "2PLo3dMKM7-Q",
        "outputId": "c26e37d3-3fca-4e3a-8a59-8dc5a3b25067"
      },
      "source": [
        "# Create two random (and different) tensors\n",
        "random_3 = tf.random.Generator.from_seed(42)\n",
        "random_3 = random_3.normal(shape=(3, 2))\n",
        "random_4 = tf.random.Generator.from_seed(11)\n",
        "random_4 = random_4.normal(shape=(3, 2))\n",
        "\n",
        "# Check the tensors and see if they are equal\n",
        "random_3, random_4, random_1 == random_3, random_3 == random_4"
      ],
      "execution_count": 14,
      "outputs": [
        {
          "output_type": "execute_result",
          "data": {
            "text/plain": [
              "(<tf.Tensor: shape=(3, 2), dtype=float32, numpy=\n",
              " array([[-0.7565803 , -0.06854702],\n",
              "        [ 0.07595026, -1.2573844 ],\n",
              "        [-0.23193763, -1.8107855 ]], dtype=float32)>,\n",
              " <tf.Tensor: shape=(3, 2), dtype=float32, numpy=\n",
              " array([[ 0.27305737, -0.29925638],\n",
              "        [-0.3652325 ,  0.61883307],\n",
              "        [-1.0130816 ,  0.28291714]], dtype=float32)>,\n",
              " <tf.Tensor: shape=(3, 2), dtype=bool, numpy=\n",
              " array([[ True,  True],\n",
              "        [ True,  True],\n",
              "        [ True,  True]])>,\n",
              " <tf.Tensor: shape=(3, 2), dtype=bool, numpy=\n",
              " array([[False, False],\n",
              "        [False, False],\n",
              "        [False, False]])>)"
            ]
          },
          "metadata": {
            "tags": []
          },
          "execution_count": 14
        }
      ]
    },
    {
      "cell_type": "markdown",
      "metadata": {
        "id": "jo7OK_rJNdS6"
      },
      "source": [
        "**Seed function is used to save the state of a random function, so that it can generate same random numbers on multiple executions of the code on the same machine or on different machines (for a specific seed value). The seed value is the previous value number generated by the generator.**"
      ]
    },
    {
      "cell_type": "code",
      "metadata": {
        "id": "iyGJWZCPNbs6",
        "colab": {
          "base_uri": "https://localhost:8080/"
        },
        "outputId": "48fb5d0f-3502-45a9-874d-768a5dc0c1ad"
      },
      "source": [
        "Not_shuffle=tf.constant([[10,12],\n",
        "                        [2,3],\n",
        "                        [5,8]])\n",
        "Not_suffle"
      ],
      "execution_count": 21,
      "outputs": [
        {
          "output_type": "execute_result",
          "data": {
            "text/plain": [
              "<tf.Tensor: shape=(3, 2), dtype=int32, numpy=\n",
              "array([[10, 12],\n",
              "       [ 2,  3],\n",
              "       [ 5,  8]], dtype=int32)>"
            ]
          },
          "metadata": {
            "tags": []
          },
          "execution_count": 21
        }
      ]
    },
    {
      "cell_type": "code",
      "metadata": {
        "colab": {
          "base_uri": "https://localhost:8080/"
        },
        "id": "VltCeSVqb8Eu",
        "outputId": "9a6b1741-f5e1-4b43-941c-0544c45792b6"
      },
      "source": [
        "shuffle=tf.random.shuffle(Not_suffle)\n",
        "shuffle"
      ],
      "execution_count": 26,
      "outputs": [
        {
          "output_type": "execute_result",
          "data": {
            "text/plain": [
              "<tf.Tensor: shape=(3, 2), dtype=int32, numpy=\n",
              "array([[10, 12],\n",
              "       [ 2,  3],\n",
              "       [ 5,  8]], dtype=int32)>"
            ]
          },
          "metadata": {
            "tags": []
          },
          "execution_count": 26
        }
      ]
    },
    {
      "cell_type": "code",
      "metadata": {
        "colab": {
          "base_uri": "https://localhost:8080/"
        },
        "id": "kXT_EwMMcYmi",
        "outputId": "31431a11-8066-4836-8b28-9fc9aecedba0"
      },
      "source": [
        "# Setting Seed\n",
        "\n",
        "# Set the global random seed\n",
        "tf.random.set_seed(42)\n",
        "\n",
        "# Set the operation random seed\n",
        "shuffle=tf.random.shuffle(Not_suffle)\n",
        "shuffle"
      ],
      "execution_count": 32,
      "outputs": [
        {
          "output_type": "execute_result",
          "data": {
            "text/plain": [
              "<tf.Tensor: shape=(3, 2), dtype=int32, numpy=\n",
              "array([[ 2,  3],\n",
              "       [ 5,  8],\n",
              "       [10, 12]], dtype=int32)>"
            ]
          },
          "metadata": {
            "tags": []
          },
          "execution_count": 32
        }
      ]
    },
    {
      "cell_type": "code",
      "metadata": {
        "colab": {
          "base_uri": "https://localhost:8080/"
        },
        "id": "dCQzfQlnhNY9",
        "outputId": "4dd3d91c-6801-434c-d964-9ab17a2832f5"
      },
      "source": [
        "# Creating Tensor of all Zeroes\n",
        "tf.zeros([5,3])"
      ],
      "execution_count": 33,
      "outputs": [
        {
          "output_type": "execute_result",
          "data": {
            "text/plain": [
              "<tf.Tensor: shape=(5, 3), dtype=float32, numpy=\n",
              "array([[0., 0., 0.],\n",
              "       [0., 0., 0.],\n",
              "       [0., 0., 0.],\n",
              "       [0., 0., 0.],\n",
              "       [0., 0., 0.]], dtype=float32)>"
            ]
          },
          "metadata": {
            "tags": []
          },
          "execution_count": 33
        }
      ]
    },
    {
      "cell_type": "code",
      "metadata": {
        "colab": {
          "base_uri": "https://localhost:8080/"
        },
        "id": "WTC7TjRehbD_",
        "outputId": "4b618f3e-24e2-4e7f-e329-3479a8be3312"
      },
      "source": [
        "# Creating Tensor of all Ondes\n",
        "tf.ones(shape=(5,3))  # Another way of defining shapes\n"
      ],
      "execution_count": 35,
      "outputs": [
        {
          "output_type": "execute_result",
          "data": {
            "text/plain": [
              "<tf.Tensor: shape=(5, 3), dtype=float32, numpy=\n",
              "array([[1., 1., 1.],\n",
              "       [1., 1., 1.],\n",
              "       [1., 1., 1.],\n",
              "       [1., 1., 1.],\n",
              "       [1., 1., 1.]], dtype=float32)>"
            ]
          },
          "metadata": {
            "tags": []
          },
          "execution_count": 35
        }
      ]
    },
    {
      "cell_type": "markdown",
      "metadata": {
        "id": "OJGYCrceiA4W"
      },
      "source": [
        "## Converting Numpy Arrays to Tensor\n",
        "**The main difference between tensors and NumPy arrays is that tensors can be run on GPUs.**\n",
        "\n",
        "🔑**Note:** A matrix or tensor is typically represented by a capital letter (e.g. X or A) where as a vector is typically represented by a lowercase letter (e.g. y or b)."
      ]
    },
    {
      "cell_type": "code",
      "metadata": {
        "colab": {
          "base_uri": "https://localhost:8080/"
        },
        "id": "1ikbCsIaimDd",
        "outputId": "8e2718c5-d98c-4385-f0a2-fdfb72aef497"
      },
      "source": [
        "import numpy as np\n",
        "X=np.arange(1,25,dtype=int) #create a NumPy array between 1 and 25\n",
        "X"
      ],
      "execution_count": 37,
      "outputs": [
        {
          "output_type": "execute_result",
          "data": {
            "text/plain": [
              "array([ 1,  2,  3,  4,  5,  6,  7,  8,  9, 10, 11, 12, 13, 14, 15, 16, 17,\n",
              "       18, 19, 20, 21, 22, 23, 24])"
            ]
          },
          "metadata": {
            "tags": []
          },
          "execution_count": 37
        }
      ]
    },
    {
      "cell_type": "code",
      "metadata": {
        "colab": {
          "base_uri": "https://localhost:8080/"
        },
        "id": "x2nfxrMXlboK",
        "outputId": "19465827-2fc6-4909-b987-05dffaab90fa"
      },
      "source": [
        "tf.constant(X)"
      ],
      "execution_count": 38,
      "outputs": [
        {
          "output_type": "execute_result",
          "data": {
            "text/plain": [
              "<tf.Tensor: shape=(24,), dtype=int64, numpy=\n",
              "array([ 1,  2,  3,  4,  5,  6,  7,  8,  9, 10, 11, 12, 13, 14, 15, 16, 17,\n",
              "       18, 19, 20, 21, 22, 23, 24])>"
            ]
          },
          "metadata": {
            "tags": []
          },
          "execution_count": 38
        }
      ]
    },
    {
      "cell_type": "code",
      "metadata": {
        "colab": {
          "base_uri": "https://localhost:8080/"
        },
        "id": "R8qGF4csmeeW",
        "outputId": "8dfbf36a-cbf4-4a2b-d005-6a9fdb04c9fd"
      },
      "source": [
        "Y=tf.constant(X,shape=(4,2,3)) # note: the shape total (2*4*3) has to match the number of elements in the array\n",
        "Y,X"
      ],
      "execution_count": 45,
      "outputs": [
        {
          "output_type": "execute_result",
          "data": {
            "text/plain": [
              "(<tf.Tensor: shape=(4, 2, 3), dtype=int64, numpy=\n",
              " array([[[ 1,  2,  3],\n",
              "         [ 4,  5,  6]],\n",
              " \n",
              "        [[ 7,  8,  9],\n",
              "         [10, 11, 12]],\n",
              " \n",
              "        [[13, 14, 15],\n",
              "         [16, 17, 18]],\n",
              " \n",
              "        [[19, 20, 21],\n",
              "         [22, 23, 24]]])>,\n",
              " array([ 1,  2,  3,  4,  5,  6,  7,  8,  9, 10, 11, 12, 13, 14, 15, 16, 17,\n",
              "        18, 19, 20, 21, 22, 23, 24]))"
            ]
          },
          "metadata": {
            "tags": []
          },
          "execution_count": 45
        }
      ]
    },
    {
      "cell_type": "markdown",
      "metadata": {
        "id": "y-qQjNMKrLXu"
      },
      "source": [
        "## Getting Information from Tensor\n",
        "\n",
        "\n",
        "*   Shape : The length (number of elements) of each of the dimensions of a tensor\n",
        "*   Rank: The number of tensor dimensions. A scalar has rank 0, a vector has rank 1, a matrix is rank 2, a tensor has rank n\n",
        "\n",
        "\n",
        "*   Axis or Dimension: A particular dimension of a tensor.\n",
        "\n",
        "*   Size: The total number of items in the tensor.\n",
        "\n",
        "\n",
        "\n",
        "\n"
      ]
    },
    {
      "cell_type": "code",
      "metadata": {
        "id": "N86HkiG7ie6_"
      },
      "source": [
        "# Create a rank 4 tensor (4 dimensions)\n",
        "\n",
        "rank_4_tensor=tf.zeros(shape=[2,3,4,5])\n"
      ],
      "execution_count": 46,
      "outputs": []
    },
    {
      "cell_type": "code",
      "metadata": {
        "colab": {
          "base_uri": "https://localhost:8080/"
        },
        "id": "wcx5h6BmiS6Y",
        "outputId": "4f8c688b-dabf-4de5-de4f-f5fcd4d13b22"
      },
      "source": [
        "rank_4_tensor"
      ],
      "execution_count": 47,
      "outputs": [
        {
          "output_type": "execute_result",
          "data": {
            "text/plain": [
              "<tf.Tensor: shape=(2, 3, 4, 5), dtype=float32, numpy=\n",
              "array([[[[0., 0., 0., 0., 0.],\n",
              "         [0., 0., 0., 0., 0.],\n",
              "         [0., 0., 0., 0., 0.],\n",
              "         [0., 0., 0., 0., 0.]],\n",
              "\n",
              "        [[0., 0., 0., 0., 0.],\n",
              "         [0., 0., 0., 0., 0.],\n",
              "         [0., 0., 0., 0., 0.],\n",
              "         [0., 0., 0., 0., 0.]],\n",
              "\n",
              "        [[0., 0., 0., 0., 0.],\n",
              "         [0., 0., 0., 0., 0.],\n",
              "         [0., 0., 0., 0., 0.],\n",
              "         [0., 0., 0., 0., 0.]]],\n",
              "\n",
              "\n",
              "       [[[0., 0., 0., 0., 0.],\n",
              "         [0., 0., 0., 0., 0.],\n",
              "         [0., 0., 0., 0., 0.],\n",
              "         [0., 0., 0., 0., 0.]],\n",
              "\n",
              "        [[0., 0., 0., 0., 0.],\n",
              "         [0., 0., 0., 0., 0.],\n",
              "         [0., 0., 0., 0., 0.],\n",
              "         [0., 0., 0., 0., 0.]],\n",
              "\n",
              "        [[0., 0., 0., 0., 0.],\n",
              "         [0., 0., 0., 0., 0.],\n",
              "         [0., 0., 0., 0., 0.],\n",
              "         [0., 0., 0., 0., 0.]]]], dtype=float32)>"
            ]
          },
          "metadata": {
            "tags": []
          },
          "execution_count": 47
        }
      ]
    },
    {
      "cell_type": "code",
      "metadata": {
        "colab": {
          "base_uri": "https://localhost:8080/"
        },
        "id": "jxSkRV37iRgo",
        "outputId": "8028b92b-37bc-4ecd-c59c-ccdbff01e5ca"
      },
      "source": [
        "rank_4_tensor[0]"
      ],
      "execution_count": 48,
      "outputs": [
        {
          "output_type": "execute_result",
          "data": {
            "text/plain": [
              "<tf.Tensor: shape=(3, 4, 5), dtype=float32, numpy=\n",
              "array([[[0., 0., 0., 0., 0.],\n",
              "        [0., 0., 0., 0., 0.],\n",
              "        [0., 0., 0., 0., 0.],\n",
              "        [0., 0., 0., 0., 0.]],\n",
              "\n",
              "       [[0., 0., 0., 0., 0.],\n",
              "        [0., 0., 0., 0., 0.],\n",
              "        [0., 0., 0., 0., 0.],\n",
              "        [0., 0., 0., 0., 0.]],\n",
              "\n",
              "       [[0., 0., 0., 0., 0.],\n",
              "        [0., 0., 0., 0., 0.],\n",
              "        [0., 0., 0., 0., 0.],\n",
              "        [0., 0., 0., 0., 0.]]], dtype=float32)>"
            ]
          },
          "metadata": {
            "tags": []
          },
          "execution_count": 48
        }
      ]
    },
    {
      "cell_type": "code",
      "metadata": {
        "colab": {
          "base_uri": "https://localhost:8080/"
        },
        "id": "iVfo3fjviGsi",
        "outputId": "e93a60cc-a4fa-43be-cab3-d65238519ee8"
      },
      "source": [
        "rank_4_tensor.ndim ,  rank_4_tensor.shape,tf.size(rank_4_tensor)"
      ],
      "execution_count": 55,
      "outputs": [
        {
          "output_type": "execute_result",
          "data": {
            "text/plain": [
              "(4, TensorShape([2, 3, 4, 5]), <tf.Tensor: shape=(), dtype=int32, numpy=120>)"
            ]
          },
          "metadata": {
            "tags": []
          },
          "execution_count": 55
        }
      ]
    },
    {
      "cell_type": "code",
      "metadata": {
        "colab": {
          "base_uri": "https://localhost:8080/"
        },
        "id": "SxkmGow1vN2K",
        "outputId": "931ed187-e872-4ec0-cdad-4a24d52d53c6"
      },
      "source": [
        "# Get various attributes of tensor\n",
        "print(\"Datatype of every element:\", rank_4_tensor.dtype)\n",
        "print(\"Number of dimensions (rank):\", rank_4_tensor.ndim)\n",
        "print(\"Shape of tensor:\", rank_4_tensor.shape)\n",
        "print(\"Elements along axis 0 of tensor:\", rank_4_tensor.shape[0])\n",
        "print(\"Elements along last axis of tensor:\", rank_4_tensor.shape[-1])\n",
        "print(\"Total number of elements (2*3*4*5):\", tf.size(rank_4_tensor).numpy()) # .numpy() converts to NumPy array"
      ],
      "execution_count": 56,
      "outputs": [
        {
          "output_type": "stream",
          "text": [
            "Datatype of every element: <dtype: 'float32'>\n",
            "Number of dimensions (rank): 4\n",
            "Shape of tensor: (2, 3, 4, 5)\n",
            "Elements along axis 0 of tensor: 2\n",
            "Elements along last axis of tensor: 5\n",
            "Total number of elements (2*3*4*5): 120\n"
          ],
          "name": "stdout"
        }
      ]
    }
  ]
}